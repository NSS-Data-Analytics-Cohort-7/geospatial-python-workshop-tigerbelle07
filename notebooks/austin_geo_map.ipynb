{
 "cells": [
  {
   "cell_type": "code",
   "execution_count": 1,
   "id": "d58b8741",
   "metadata": {},
   "outputs": [],
   "source": [
    "from shapely.geometry import Point\n",
    "import pandas as pd\n",
    "import geopandas as gpd\n",
    "import matplotlib.pyplot as plt\n",
    "import folium\n",
    "from folium.plugins import MarkerCluster\n",
    "from folium.plugins import FastMarkerCluster"
   ]
  },
  {
   "cell_type": "markdown",
   "id": "be63ced3",
   "metadata": {},
   "source": [
    "Now it's time to download and save the file. \n",
    "C:\\Users\\aaust\\OneDrive\\Desktop\\DA7\\Projects\\geospatial-python-workshop-tigerbelle07\\data"
   ]
  },
  {
   "cell_type": "code",
   "execution_count": 2,
   "id": "962c6cf5",
   "metadata": {},
   "outputs": [
    {
     "name": "stdout",
     "output_type": "stream",
     "text": [
      "epsg:4326\n"
     ]
    },
    {
     "data": {
      "text/html": [
       "<div>\n",
       "<style scoped>\n",
       "    .dataframe tbody tr th:only-of-type {\n",
       "        vertical-align: middle;\n",
       "    }\n",
       "\n",
       "    .dataframe tbody tr th {\n",
       "        vertical-align: top;\n",
       "    }\n",
       "\n",
       "    .dataframe thead th {\n",
       "        text-align: right;\n",
       "    }\n",
       "</style>\n",
       "<table border=\"1\" class=\"dataframe\">\n",
       "  <thead>\n",
       "    <tr style=\"text-align: right;\">\n",
       "      <th></th>\n",
       "      <th>name</th>\n",
       "      <th>geometry</th>\n",
       "    </tr>\n",
       "  </thead>\n",
       "  <tbody>\n",
       "    <tr>\n",
       "      <th>0</th>\n",
       "      <td>Historic Buena Vista</td>\n",
       "      <td>MULTIPOLYGON (((-86.79511 36.17576, -86.79403 ...</td>\n",
       "    </tr>\n",
       "    <tr>\n",
       "      <th>1</th>\n",
       "      <td>Charlotte Park</td>\n",
       "      <td>MULTIPOLYGON (((-86.87460 36.15758, -86.87317 ...</td>\n",
       "    </tr>\n",
       "    <tr>\n",
       "      <th>2</th>\n",
       "      <td>Hillwood</td>\n",
       "      <td>MULTIPOLYGON (((-86.87614 36.13554, -86.87583 ...</td>\n",
       "    </tr>\n",
       "    <tr>\n",
       "      <th>3</th>\n",
       "      <td>East Hill</td>\n",
       "      <td>MULTIPOLYGON (((-86.74659 36.20376, -86.74559 ...</td>\n",
       "    </tr>\n",
       "    <tr>\n",
       "      <th>4</th>\n",
       "      <td>Cleveland Park</td>\n",
       "      <td>MULTIPOLYGON (((-86.75606 36.18857, -86.75600 ...</td>\n",
       "    </tr>\n",
       "    <tr>\n",
       "      <th>...</th>\n",
       "      <td>...</td>\n",
       "      <td>...</td>\n",
       "    </tr>\n",
       "    <tr>\n",
       "      <th>283</th>\n",
       "      <td>River Plantation III</td>\n",
       "      <td>MULTIPOLYGON (((-86.94600 36.06871, -86.94605 ...</td>\n",
       "    </tr>\n",
       "    <tr>\n",
       "      <th>284</th>\n",
       "      <td>Porter Heights</td>\n",
       "      <td>MULTIPOLYGON (((-86.70929 36.18842, -86.70942 ...</td>\n",
       "    </tr>\n",
       "    <tr>\n",
       "      <th>285</th>\n",
       "      <td>Avondale Park</td>\n",
       "      <td>MULTIPOLYGON (((-86.98693 36.07718, -86.98672 ...</td>\n",
       "    </tr>\n",
       "    <tr>\n",
       "      <th>286</th>\n",
       "      <td>Travis Trace</td>\n",
       "      <td>MULTIPOLYGON (((-87.01880 36.08394, -87.01866 ...</td>\n",
       "    </tr>\n",
       "    <tr>\n",
       "      <th>287</th>\n",
       "      <td>Oak Highlands</td>\n",
       "      <td>MULTIPOLYGON (((-86.67565 36.03451, -86.67555 ...</td>\n",
       "    </tr>\n",
       "  </tbody>\n",
       "</table>\n",
       "<p>288 rows × 2 columns</p>\n",
       "</div>"
      ],
      "text/plain": [
       "                     name                                           geometry\n",
       "0    Historic Buena Vista  MULTIPOLYGON (((-86.79511 36.17576, -86.79403 ...\n",
       "1          Charlotte Park  MULTIPOLYGON (((-86.87460 36.15758, -86.87317 ...\n",
       "2                Hillwood  MULTIPOLYGON (((-86.87614 36.13554, -86.87583 ...\n",
       "3               East Hill  MULTIPOLYGON (((-86.74659 36.20376, -86.74559 ...\n",
       "4          Cleveland Park  MULTIPOLYGON (((-86.75606 36.18857, -86.75600 ...\n",
       "..                    ...                                                ...\n",
       "283  River Plantation III  MULTIPOLYGON (((-86.94600 36.06871, -86.94605 ...\n",
       "284        Porter Heights  MULTIPOLYGON (((-86.70929 36.18842, -86.70942 ...\n",
       "285         Avondale Park  MULTIPOLYGON (((-86.98693 36.07718, -86.98672 ...\n",
       "286          Travis Trace  MULTIPOLYGON (((-87.01880 36.08394, -87.01866 ...\n",
       "287         Oak Highlands  MULTIPOLYGON (((-86.67565 36.03451, -86.67555 ...\n",
       "\n",
       "[288 rows x 2 columns]"
      ]
     },
     "execution_count": 2,
     "metadata": {},
     "output_type": "execute_result"
    }
   ],
   "source": [
    "neighborhood = gpd.read_file('../data/Neighborhood Association Boundaries (GIS) (1).geojson')\n",
    "print(neighborhood.crs)\n",
    "neighborhood"
   ]
  },
  {
   "cell_type": "code",
   "execution_count": 3,
   "id": "3d858dde",
   "metadata": {},
   "outputs": [
    {
     "data": {
      "text/plain": [
       "geopandas.geodataframe.GeoDataFrame"
      ]
     },
     "execution_count": 3,
     "metadata": {},
     "output_type": "execute_result"
    }
   ],
   "source": [
    "type(neighborhood)"
   ]
  },
  {
   "cell_type": "code",
   "execution_count": 5,
   "id": "719c4d44",
   "metadata": {},
   "outputs": [
    {
     "data": {
      "text/plain": [
       "<AxesSubplot:>"
      ]
     },
     "execution_count": 5,
     "metadata": {},
     "output_type": "execute_result"
    },
    {
     "data": {
      "image/png": "[encoded data removed]",
      "text/plain": [
       "<Figure size 640x480 with 1 Axes>"
      ]
     },
     "metadata": {},
     "output_type": "display_data"
    }
   ],
   "source": [
    "neighborhood.plot()"
   ]
  },
  {
   "cell_type": "code",
   "execution_count": 6,
   "id": "d3362dd3",
   "metadata": {},
   "outputs": [
    {
     "name": "stdout",
     "output_type": "stream",
     "text": [
      "epsg:4326\n"
     ]
    },
    {
     "data": {
      "text/html": [
       "<div>\n",
       "<style scoped>\n",
       "    .dataframe tbody tr th:only-of-type {\n",
       "        vertical-align: middle;\n",
       "    }\n",
       "\n",
       "    .dataframe tbody tr th {\n",
       "        vertical-align: top;\n",
       "    }\n",
       "\n",
       "    .dataframe thead th {\n",
       "        text-align: right;\n",
       "    }\n",
       "</style>\n",
       "<table border=\"1\" class=\"dataframe\">\n",
       "  <thead>\n",
       "    <tr style=\"text-align: right;\">\n",
       "      <th></th>\n",
       "      <th>zip</th>\n",
       "      <th>objectid</th>\n",
       "      <th>po_name</th>\n",
       "      <th>shape_stlength</th>\n",
       "      <th>shape_starea</th>\n",
       "      <th>geometry</th>\n",
       "    </tr>\n",
       "  </thead>\n",
       "  <tbody>\n",
       "    <tr>\n",
       "      <th>0</th>\n",
       "      <td>37115</td>\n",
       "      <td>1</td>\n",
       "      <td>MADISON</td>\n",
       "      <td>178783.02488886821</td>\n",
       "      <td>596553400.57885742</td>\n",
       "      <td>MULTIPOLYGON (((-86.68725 36.31821, -86.68722 ...</td>\n",
       "    </tr>\n",
       "    <tr>\n",
       "      <th>1</th>\n",
       "      <td>37216</td>\n",
       "      <td>3</td>\n",
       "      <td>NASHVILLE</td>\n",
       "      <td>75820.997821400058</td>\n",
       "      <td>188884682.28344727</td>\n",
       "      <td>MULTIPOLYGON (((-86.73451 36.23774, -86.73425 ...</td>\n",
       "    </tr>\n",
       "    <tr>\n",
       "      <th>2</th>\n",
       "      <td>37204</td>\n",
       "      <td>9</td>\n",
       "      <td>NASHVILLE</td>\n",
       "      <td>93180.292250425613</td>\n",
       "      <td>200664795.51708984</td>\n",
       "      <td>MULTIPOLYGON (((-86.77914 36.13424, -86.77923 ...</td>\n",
       "    </tr>\n",
       "    <tr>\n",
       "      <th>3</th>\n",
       "      <td>37027</td>\n",
       "      <td>11</td>\n",
       "      <td>BRENTWOOD</td>\n",
       "      <td>159760.6942933173</td>\n",
       "      <td>174978422.04101562</td>\n",
       "      <td>MULTIPOLYGON (((-86.81258 36.06319, -86.81263 ...</td>\n",
       "    </tr>\n",
       "    <tr>\n",
       "      <th>4</th>\n",
       "      <td>37064</td>\n",
       "      <td>18</td>\n",
       "      <td>FRANKLIN</td>\n",
       "      <td>28995.828320601937</td>\n",
       "      <td>46969608.005737305</td>\n",
       "      <td>MULTIPOLYGON (((-87.02197 36.01200, -87.02140 ...</td>\n",
       "    </tr>\n",
       "  </tbody>\n",
       "</table>\n",
       "</div>"
      ],
      "text/plain": [
       "     zip objectid    po_name      shape_stlength        shape_starea  \\\n",
       "0  37115        1    MADISON  178783.02488886821  596553400.57885742   \n",
       "1  37216        3  NASHVILLE  75820.997821400058  188884682.28344727   \n",
       "2  37204        9  NASHVILLE  93180.292250425613  200664795.51708984   \n",
       "3  37027       11  BRENTWOOD   159760.6942933173  174978422.04101562   \n",
       "4  37064       18   FRANKLIN  28995.828320601937  46969608.005737305   \n",
       "\n",
       "                                            geometry  \n",
       "0  MULTIPOLYGON (((-86.68725 36.31821, -86.68722 ...  \n",
       "1  MULTIPOLYGON (((-86.73451 36.23774, -86.73425 ...  \n",
       "2  MULTIPOLYGON (((-86.77914 36.13424, -86.77923 ...  \n",
       "3  MULTIPOLYGON (((-86.81258 36.06319, -86.81263 ...  \n",
       "4  MULTIPOLYGON (((-87.02197 36.01200, -87.02140 ...  "
      ]
     },
     "execution_count": 6,
     "metadata": {},
     "output_type": "execute_result"
    }
   ],
   "source": [
    "zipcodes = gpd.read_file('../data/zipcodes.geojson')\n",
    "print(zipcodes.crs)\n",
    "zipcodes.head( )"
   ]
  },
  {
   "cell_type": "code",
   "execution_count": 8,
   "id": "d3d92640",
   "metadata": {},
   "outputs": [
    {
     "data": {
      "image/svg+xml": [
       "<svg xmlns=\"http://www.w3.org/2000/svg\" xmlns:xlink=\"http://www.w3.org/1999/xlink\" width=\"100.0\" height=\"100.0\" viewBox=\"-86.80857251205411 36.074271404443884 0.0636267149762233 0.06232322501223564\" preserveAspectRatio=\"xMinYMin meet\"><g transform=\"matrix(1,0,0,-1,0,72.2108660339)\"><g><path fill-rule=\"evenodd\" fill=\"#66cc99\" stroke=\"#555555\" stroke-width=\"0.0012725342995244659\" opacity=\"0.6\" d=\"M -86.779138251631,36.134238084457 L -86.779228265255,36.13359845751 L -86.778548650729,36.133511003998 L -86.778557290161,36.133443275237 L -86.778577630262,36.133306887979 L -86.778597943091,36.133168302638 L -86.778598933428,36.133161663724 L -86.778615859974,36.133048137156 L -86.778618278818,36.13303191539 L -86.77862337716,36.133001231179 L -86.778623395069,36.133001114884 L -86.77859086559,36.132999127146 L -86.778587830478,36.132998839402 L -86.778417318314,36.132982666189 L -86.778257336922,36.132968316294 L -86.778081079357,36.13295187005 L -86.777915099443,36.132936400029 L -86.777750260749,36.132921036886 L -86.777576715803,36.132904849417 L -86.777576601405,36.132904838708 L -86.77741131261,36.132890255776 L -86.777410409394,36.132890167165 L -86.777245892792,36.132873741337 L -86.777161834122,36.132866039851 L -86.777074974202,36.132858082212 L -86.776909654751,36.132842941931 L -86.776774177161,36.132832861965 L -86.776776916046,36.132809365239 L -86.776874306555,36.132338122099 L -86.776760872226,36.132326267939 L -86.776148756729,36.132273546935 L -86.776140928877,36.13235780726 L -86.776088164385,36.132780100756 L -86.776088148063,36.132780235354 L -86.776088106718,36.132780552681 L -86.776085649452,36.132799896602 L -86.776112782294,36.13280411741 L -86.776112911183,36.132817301499 L -86.776112832862,36.132817733526 L -86.776112759289,36.132818146064 L -86.776107773209,36.132845906073 L -86.776101455183,36.13289561136 L -86.776087103646,36.133008552687 L -86.776080100368,36.133063652984 L -86.776069761823,36.133144992906 L -86.776052428803,36.133281401583 L -86.775589300785,36.133219914624 L -86.775771473247,36.133420883257 L -86.775107910157,36.133347705966 L -86.772758728214,36.129271968835 L -86.772284133921,36.129371258856 L -86.772820323245,36.13197574821 L -86.773676249182,36.13202749336 L -86.773651651,36.132123262082 L -86.773567607603,36.132673219684 L -86.773590285883,36.132776362789 L -86.773598734795,36.13280927777 L -86.773661073693,36.133090178347 L -86.773695140864,36.133250393129 L -86.773700819376,36.133276726541 L -86.773099469803,36.133221106944 L -86.773084901291,36.133148474951 L -86.772961919205,36.133103992541 L -86.772223276149,36.133034238705 L -86.772220456727,36.133053801764 L -86.771026230885,36.132940456129 L -86.768978260749,36.1327460552 L -86.768756412447,36.132724240654 L -86.7687218916,36.132950297001 L -86.768651507424,36.132947788326 L -86.768598555831,36.132943833921 L -86.768554863117,36.132938323342 L -86.768589456551,36.132710971442 L -86.768002657021,36.132652215416 L -86.768076728373,36.132165393006 L -86.767306675523,36.132092281375 L -86.767364857344,36.131741678992 L -86.767371761326,36.131700070953 L -86.767516591508,36.130824030815 L -86.767485156459,36.130817562227 L -86.767410893945,36.130603242637 L -86.767354578393,36.130446038866 L -86.767297262006,36.130291100916 L -86.767238824013,36.130131041581 L -86.767181034993,36.129972556522 L -86.767123922295,36.129813000913 L -86.767069425621,36.129659127146 L -86.767012490841,36.129498370777 L -86.766956347415,36.129339615298 L -86.76690106696,36.129182972428 L -86.766891907498,36.12915701908 L -86.766804144933,36.128909933016 L -86.766738906849,36.128737024148 L -86.766743377228,36.128707418081 L -86.766779709784,36.128466805252 L -86.76714441402,36.128408155066 L -86.767259337184,36.128362084494 L -86.767244489025,36.128326446056 L -86.767152071053,36.128181663108 L -86.767021034211,36.127942260906 L -86.766852123212,36.127406176347 L -86.766776607837,36.127244310862 L -86.766708027769,36.127068016179 L -86.76666172294,36.126948354404 L -86.766558107778,36.126738172471 L -86.766460037596,36.126576029439 L -86.766249136896,36.126272212916 L -86.765988241583,36.125933916887 L -86.765955329975,36.125894980845 L -86.765934486693,36.125870325197 L -86.765879489544,36.125805265376 L -86.765608504379,36.12559885327 L -86.765314582632,36.125374970868 L -86.765229899667,36.125423190864 L -86.765149055656,36.125437668095 L -86.765065220256,36.125434765949 L -86.76497524185,36.125409238558 L -86.764810743617,36.125322375566 L -86.764499839664,36.12512312072 L -86.764052545073,36.124825146666 L -86.764212001463,36.124593380798 L -86.764314476631,36.124422411944 L -86.76437843834,36.124295639496 L -86.764272892595,36.124270851216 L -86.763949649592,36.124178399087 L -86.763474295086,36.124042955319 L -86.763488020315,36.123956060092 L -86.763491210703,36.123935710787 L -86.763510995147,36.123810041948 L -86.763515141241,36.123783369407 L -86.763528812138,36.123690980312 L -86.763546932635,36.123568347807 L -86.763555841268,36.123508396047 L -86.763564100856,36.123452034504 L -86.763583821673,36.123319774142 L -86.763602900307,36.123191089068 L -86.763611794849,36.123130047703 L -86.763621028452,36.123069275466 L -86.763638847765,36.12295048963 L -86.763663929004,36.122782236324 L -86.763686525656,36.122632098697 L -86.763597450024,36.122621727421 L -86.763528060297,36.122614412389 L -86.76347584824,36.122608858915 L -86.763259044401,36.122586500546 L -86.763258333794,36.122585593921 L -86.763067351543,36.122565178504 L -86.762936038945,36.122550893745 L -86.762819428847,36.122538311213 L -86.762750320602,36.122530835996 L -86.762492012491,36.122503992495 L -86.762019557881,36.122452567654 L -86.762023403827,36.122424197286 L -86.761998662566,36.122421606478 L -86.7613370795,36.122355458101 L -86.761098488647,36.122332788676 L -86.760897839162,36.122312078854 L -86.760691771096,36.122291401724 L -86.760672791726,36.122289323157 L -86.760691975789,36.121776812955 L -86.760815029257,36.121779846777 L -86.761057469157,36.121786099718 L -86.761410915662,36.121774942288 L -86.761869598279,36.121733586717 L -86.762333726875,36.121671361652 L -86.762902879156,36.121556735251 L -86.763204234485,36.121469210935 L -86.763481010849,36.121378407555 L -86.763686042019,36.121309119465 L -86.763820124212,36.121256304496 L -86.765161851427,36.120558048747 L -86.764818405929,36.120159650052 L -86.76449460026,36.120112807154 L -86.764366056793,36.120125434891 L -86.764259126923,36.120132155491 L -86.76418828986,36.119983985451 L -86.763635265231,36.119303735555 L -86.763368694283,36.118976044038 L -86.762356815036,36.118251439939 L -86.761845219235,36.11807528585 L -86.759451342245,36.117250042455 L -86.759444568482,36.117249812111 L -86.759437794698,36.117249579478 L -86.759434409122,36.117249600794 L -86.759431023546,36.11724962211 L -86.759424249767,36.117249390048 L -86.759417479126,36.117249707386 L -86.759414098299,36.117250003955 L -86.75941105794,36.117250571945 L -86.759404294675,36.11725143923 L -86.759397534026,36.117252580063 L -86.759391111234,36.117253719341 L -86.759387730934,36.117254292333 L -86.759384353217,36.11725513544 L -86.759381311458,36.117255704583 L -86.75937455344,36.117257120681 L -86.759368135391,36.117258534639 L -86.759364755063,36.117259104769 L -86.759361377373,36.117259950736 L -86.759354954575,36.11726108944 L -86.759348196567,36.117262506682 L -86.759345156713,36.117263348805 L -86.759341779022,36.117264194773 L -86.759335362177,36.117265882287 L -86.759328946758,36.117267571508 L -86.759322530412,36.117269532584 L -86.759319491834,36.117270655705 L -86.759316455483,36.117271495516 L -86.759313418982,36.117272614618 L -86.759310043907,36.117273734134 L -86.759303972804,36.117276244745 L -86.759297900479,36.117278480081 L -86.759294866593,36.117279872731 L -86.759291831501,36.117280991823 L -86.759286100876,36.117283775001 L -86.759283070516,36.117285167629 L -86.759277335848,36.117287675549 L -86.759271609959,36.117290732834 L -86.759268573956,36.117292125497 L -86.759263533267,36.117295729034 L -86.759260837743,36.117297394264 L -86.759255793521,36.11730099725 L -86.759253442708,36.11730293502 L -86.759250751931,36.117304875503 L -86.759248401112,36.1173068127 L -86.759246389372,36.117309023619 L -86.759242028223,36.117313171726 L -86.75923967862,36.117315383626 L -86.759235998618,36.117319801584 L -86.759232317715,36.117324494257 L -86.75923064858,36.117326978874 L -86.759228976797,36.117329186507 L -86.759225635889,36.117333879902 L -86.759223966716,36.117336360512 L -86.758706943502,36.118256047968 L -86.758600535176,36.118494341054 L -86.758590620239,36.118519952038 L -86.758393569692,36.119016767856 L -86.758305518543,36.118991593677 L -86.757252135345,36.118690440877 L -86.756932532638,36.118621570517 L -86.756865003323,36.118605787506 L -86.756948825104,36.118093201615 L -86.756948843937,36.118093105349 L -86.757062583536,36.117440371229 L -86.757118322731,36.117120487477 L -86.757123446799,36.117089962465 L -86.757149066644,36.11693596042 L -86.757202841289,36.116610369216 L -86.757279966395,36.116165983364 L -86.757122228992,36.116130069114 L -86.757306850065,36.115587794075 L -86.757511105118,36.114852486779 L -86.757926822667,36.113287319772 L -86.75609230233,36.11319554271 L -86.756226976561,36.111410177427 L -86.756250832557,36.111277160574 L -86.75607039247,36.111265592766 L -86.755634141968,36.111217520688 L -86.75523731007,36.111170787236 L -86.755002590991,36.111142267529 L -86.754472527297,36.111088353113 L -86.754160766,36.111057337079 L -86.753964372184,36.11104566042 L -86.75344527929,36.111017132299 L -86.752949929546,36.111067651091 L -86.752536200116,36.111108233742 L -86.751923289245,36.111183481176 L -86.751565395996,36.111226689549 L -86.751459285263,36.111253219304 L -86.751342655487,36.111271115324 L -86.751068542484,36.111283353183 L -86.75083397312,36.11130015169 L -86.750610062401,36.111286055726 L -86.750595018492,36.110923153614 L -86.75060176015,36.110618283579 L -86.750662688388,36.110619169766 L -86.750686814997,36.10948499843 L -86.750695848247,36.109119453301 L -86.750693654361,36.10900943328 L -86.74996960499,36.109019159057 L -86.7499426346,36.109019326764 L -86.749935778498,36.108293308837 L -86.74992261182,36.106899003124 L -86.750099666683,36.103601828408 L -86.750231733474,36.103427252113 L -86.750496352193,36.103099844003 L -86.750698670782,36.102508641926 L -86.750775978162,36.102271451745 L -86.750799019206,36.102202172641 L -86.75083735449,36.102079687469 L -86.750873428714,36.10195675908 L -86.750906393479,36.101833162114 L -86.750937097208,36.101709121934 L -86.751003028306,36.101402408293 L -86.751036252091,36.100351659496 L -86.751001575088,36.099667614614 L -86.750955684503,36.098901455502 L -86.75094593896,36.09869153991 L -86.75062508453,36.098706012288 L -86.749505824711,36.098742049947 L -86.749509674916,36.098597052204 L -86.748533486909,36.09851749721 L -86.748445380487,36.09850705562 L -86.748235275422,36.09848203295 L -86.747740517964,36.098423521232 L -86.747302342077,36.098376885525 L -86.747306656839,36.098295226 L -86.747314503992,36.097870906162 L -86.747364845753,36.097875605368 L -86.747494759245,36.096965775265 L -86.747552782469,36.096559403384 L -86.747569659726,36.096471222227 L -86.747597486684,36.096473954788 L -86.748608446932,36.096560044399 L -86.74859899164,36.096500845523 L -86.748814038697,36.095040242179 L -86.747981248155,36.094969892587 L -86.747909318225,36.094965223957 L -86.74797454067,36.094433895019 L -86.74810151114,36.093564518093 L -86.748181658365,36.093017894384 L -86.748338312513,36.091969719616 L -86.748379118929,36.091702419511 L -86.748412011621,36.091601148851 L -86.748467814201,36.091488720026 L -86.748537302708,36.09138826492 L -86.74864451858,36.091272221429 L -86.748710281369,36.091214700496 L -86.748747995524,36.091190292234 L -86.748859676636,36.091117348872 L -86.748980781019,36.091038275165 L -86.74946267571,36.090746313078 L -86.749482899457,36.090737396019 L -86.749577247851,36.090692855618 L -86.749920952562,36.090466361183 L -86.749952672251,36.090445450616 L -86.750169546881,36.090314781421 L -86.750170305862,36.090293903164 L -86.750430434443,36.089794368912 L -86.750575469226,36.089591781154 L -86.750819326571,36.089340962266 L -86.751057676635,36.089104369479 L -86.751277861411,36.08888551789 L -86.751358410691,36.088813589103 L -86.753377514826,36.087061533418 L -86.753411177858,36.087032320322 L -86.752983631178,36.086745615493 L -86.753089940084,36.086633792625 L -86.753139982706,36.086579987834 L -86.753247734403,36.086464138712 L -86.753270324416,36.086021433106 L -86.753279982942,36.085832141144 L -86.75327998606,36.085832098201 L -86.753359816658,36.085760442044 L -86.753461203637,36.085669437281 L -86.753766250279,36.085395838309 L -86.753766253376,36.085395793077 L -86.753782817629,36.085109305236 L -86.753782822362,36.08510920963 L -86.753793841611,36.084994427686 L -86.754207176016,36.085020570306 L -86.754611852941,36.085045967313 L -86.754985596566,36.08505095323 L -86.755042577069,36.085051969976 L -86.755228716534,36.085081480394 L -86.75524286236,36.085087308405 L -86.755249590862,36.084963223269 L -86.755174479486,36.084467012392 L -86.755312386173,36.084448568082 L -86.755544966171,36.084420738432 L -86.75587231606,36.084678015265 L -86.755958328738,36.084743195248 L -86.756283813476,36.084460197513 L -86.756339125001,36.084404450758 L -86.757100056922,36.083725026021 L -86.757192613069,36.083641344212 L -86.757507013732,36.083368776189 L -86.757570808701,36.083309285236 L -86.75747773164,36.083243829122 L -86.757205033171,36.083038959316 L -86.757241489185,36.082887087815 L -86.757303108124,36.082818572615 L -86.75739400283,36.082697128067 L -86.75741805551,36.082664012587 L -86.757532958422,36.082505057317 L -86.757548551714,36.0824368283 L -86.757563550239,36.082376988622 L -86.757577239151,36.082322367555 L -86.757618923563,36.082150684309 L -86.757624088015,36.082124280579 L -86.757633110864,36.081970384174 L -86.757638152615,36.081895631197 L -86.757555151546,36.081709347513 L -86.757532994133,36.081656740741 L -86.757803825723,36.08150577641 L -86.758023469596,36.081383342302 L -86.758083857318,36.081354453144 L -86.758786947405,36.081346947663 L -86.759073753029,36.081434422778 L -86.759546465529,36.081569075031 L -86.759653793411,36.081467581508 L -86.760549688432,36.080449173357 L -86.760647341014,36.080064549258 L -86.760430788162,36.080042493776 L -86.760580553802,36.079204695529 L -86.760600114741,36.079072711602 L -86.760163981956,36.078763387221 L -86.760183235758,36.078229221974 L -86.760478496483,36.077963637592 L -86.760730798443,36.07773568223 L -86.761595168144,36.07724892805 L -86.76223371385,36.076928422329 L -86.762486956596,36.076799354557 L -86.762831838205,36.076627949443 L -86.762990599577,36.076809353755 L -86.762963699015,36.076827106221 L -86.763298227255,36.077268924576 L -86.763252417733,36.077291191662 L -86.763473974878,36.077527142094 L -86.763605287487,36.07766916071 L -86.763998106481,36.077973448163 L -86.764196789777,36.078569641893 L -86.764803554764,36.079042727078 L -86.764780020515,36.079888516442 L -86.764611487108,36.080176979308 L -86.764624913382,36.080656212251 L -86.764903267893,36.081190995903 L -86.765215428333,36.081575330101 L -86.765563740123,36.082052435119 L -86.765639205694,36.082567042578 L -86.765764550159,36.082770134411 L -86.766551785355,36.08306559954 L -86.767074159865,36.08331266651 L -86.76758951841,36.083745779953 L -86.767982680782,36.084301286111 L -86.768594366335,36.085262580252 L -86.769002151981,36.08563678923 L -86.769476315647,36.085963189847 L -86.769912754202,36.08618017391 L -86.770170101612,36.08628063189 L -86.770310808434,36.086335591271 L -86.770476226872,36.086379632995 L -86.770848632345,36.086478437949 L -86.771415004091,36.086569362597 L -86.771644209084,36.086588728309 L -86.771971911441,36.08658594382 L -86.772511820483,36.086623693266 L -86.773313518814,36.086667086636 L -86.773735550369,36.086697808782 L -86.77372454255,36.086786653427 L -86.773669795742,36.087281484831 L -86.773797130859,36.08728945908 L -86.774460922616,36.087333546683 L -86.775249345908,36.087385620733 L -86.775186956236,36.087928854255 L -86.775568965906,36.08795276835 L -86.775956389343,36.087976649257 L -86.776173135668,36.087990638094 L -86.776341107684,36.088000548055 L -86.776723117331,36.088024457352 L -86.777105125825,36.08804836831 L -86.77706488129,36.088362898499 L -86.777406237825,36.088382675663 L -86.777744886347,36.088402468758 L -86.77786139306,36.088410507429 L -86.778083537153,36.088422260888 L -86.778419499356,36.088444265982 L -86.778632875763,36.088455109532 L -86.778712057369,36.088301173377 L -86.778775634967,36.088314500681 L -86.77892233538,36.08836410022 L -86.779261891767,36.088476186687 L -86.779247004359,36.088614737571 L -86.779279601209,36.088625515411 L -86.779722301072,36.08876330749 L -86.780154150208,36.088898968738 L -86.780586002228,36.089034628426 L -86.780977113613,36.089157364819 L -86.780939438722,36.089456496898 L -86.780904211809,36.089729240092 L -86.781403087498,36.089796331722 L -86.78204022009,36.089880111996 L -86.782064632476,36.089884349063 L -86.782151381397,36.089894774884 L -86.782563465466,36.089947046498 L -86.782728840288,36.089967947231 L -86.782896945121,36.089991031147 L -86.783235820659,36.090032783268 L -86.783327980793,36.089219035276 L -86.783991873045,36.089305375651 L -86.784325685949,36.08934880704 L -86.784656455886,36.089392807307 L -86.78456433086,36.090208753269 L -86.784555621352,36.090250902806 L -86.784651805256,36.090263997116 L -86.785356840563,36.090357282071 L -86.785361431966,36.090313449783 L -86.785458768361,36.089477688762 L -86.785987406503,36.089542372147 L -86.785979829002,36.089597364686 L -86.786310644393,36.089645754963 L -86.786315689604,36.089608361112 L -86.786649172047,36.089652337091 L -86.787448998199,36.08975919858 L -86.787538260742,36.089766062034 L -86.787569050687,36.089502265894 L -86.787571476207,36.089481488052 L -86.787616605455,36.089168707902 L -86.787681625352,36.088728742459 L -86.787700572704,36.088307163198 L -86.787724148369,36.088238561002 L -86.78818817029,36.088192865092 L -86.788187014158,36.088275323179 L -86.788184805816,36.088286630036 L -86.788184436806,36.088288525106 L -86.788111522271,36.0888538116 L -86.788099162212,36.088972569529 L -86.788427035724,36.08899734734 L -86.788440926659,36.088998630073 L -86.788576286723,36.089015107307 L -86.788768610573,36.089038518554 L -86.788812948767,36.089044992732 L -86.788858822833,36.089051690924 L -86.78906335106,36.089081556016 L -86.789117808861,36.089088703865 L -86.789191570988,36.089095088922 L -86.789452712438,36.089117441976 L -86.789543741586,36.089129352246 L -86.790122485348,36.089205071679 L -86.790131761287,36.089131636201 L -86.790160680254,36.088902725232 L -86.790593899612,36.088937456455 L -86.790913917734,36.08896283817 L -86.790908333314,36.088976874291 L -86.790902378185,36.089026409198 L -86.790980742295,36.089035015621 L -86.791620344735,36.089094551506 L -86.791556731963,36.089503742083 L -86.791544048466,36.089589535799 L -86.791779885225,36.089616556377 L -86.791904561501,36.089628924403 L -86.791969630126,36.089637287279 L -86.792319293049,36.089674550496 L -86.792370802265,36.089680804551 L -86.792842413383,36.089728251607 L -86.792877655654,36.089732415276 L -86.792852444949,36.089919385319 L -86.793302442215,36.089971370974 L -86.7938391467,36.090029372091 L -86.79385948985,36.089897376483 L -86.793883805282,36.089739594643 L -86.794386373006,36.089788817789 L -86.794957024173,36.089844707919 L -86.795101862955,36.089858892463 L -86.795143108337,36.089862931182 L -86.795427817812,36.089890813902 L -86.795470642866,36.089895008061 L -86.795829497848,36.089930152143 L -86.795839578402,36.089931138676 L -86.796254134463,36.089971734895 L -86.796424338911,36.08998840304 L -86.79640083941,36.090049839873 L -86.796834511112,36.089675929479 L -86.796897781177,36.089681655754 L -86.796933234071,36.089684864508 L -86.797044053222,36.089694893324 L -86.797220491309,36.089710860398 L -86.797380985432,36.089725385104 L -86.797663407034,36.08975094319 L -86.797678910684,36.089752345824 L -86.797733549298,36.089757290316 L -86.798059965337,36.089786827615 L -86.79818364674,36.089798019053 L -86.798318435613,36.089810216217 L -86.798351678852,36.089813224565 L -86.798399333231,36.089817536228 L -86.798698205617,36.089844580306 L -86.798727448569,36.089847226443 L -86.798854308961,36.089858705188 L -86.799061219502,36.089877427142 L -86.799268617126,36.089896193014 L -86.79932484675,36.089901280766 L -86.799335818697,36.089902273688 L -86.799374458705,36.089907626825 L -86.799400521403,36.089911237637 L -86.799734696835,36.089957538279 L -86.799887484073,36.089978706175 L -86.800068731427,36.090003817755 L -86.800400117056,36.090049729293 L -86.800343358798,36.090597336332 L -86.800795986528,36.090640483502 L -86.800908244552,36.090226569339 L -86.800954028099,36.090202089319 L -86.800964658083,36.090182239932 L -86.801330428552,36.089327585777 L -86.801334178866,36.089232502063 L -86.801882401428,36.089282544349 L -86.802131947298,36.089303777264 L -86.802542683224,36.089338588273 L -86.80294345373,36.089364305994 L -86.803289213799,36.089397174874 L -86.80367150407,36.089431590072 L -86.803948080559,36.089457701801 L -86.804032628637,36.089465561435 L -86.804074682286,36.089469452065 L -86.804056418476,36.089603445644 L -86.803950754632,36.090399719189 L -86.80454202194,36.090496873348 L -86.80465265115,36.089656607426 L -86.804671183416,36.089524641405 L -86.805275706668,36.089580569174 L -86.805259711871,36.089709696239 L -86.805154193605,36.090519156733 L -86.804750858609,36.090530640723 L -86.804585335808,36.091030623367 L -86.805850825258,36.090859543363 L -86.805967542535,36.090837079797 L -86.806100548656,36.091292333096 L -86.806215967055,36.09153033757 L -86.80614489348,36.091554249804 L -86.804925103545,36.092027212761 L -86.804844475498,36.092020059569 L -86.80459271724,36.091993169578 L -86.804365057168,36.091972710853 L -86.804275283477,36.09196479415 L -86.804231790133,36.091960778119 L -86.803020686486,36.091850915436 L -86.803018002697,36.091878397178 L -86.802979839382,36.092206934604 L -86.802843221193,36.092197153967 L -86.802832394036,36.092470819086 L -86.803207774702,36.092495443669 L -86.803174653627,36.092638192288 L -86.803124540655,36.092774351643 L -86.802921120246,36.092759787872 L -86.80284793599,36.093058902529 L -86.802776536411,36.093368110093 L -86.803395547895,36.093405877711 L -86.803485833683,36.093448233234 L -86.803427301791,36.093699491143 L -86.803390661202,36.093849358263 L -86.803292361953,36.093839120209 L -86.802616422963,36.093940320226 L -86.8022162697,36.094000123908 L -86.802215916176,36.094000170329 L -86.802319040068,36.09440384504 L -86.802343132932,36.094508000662 L -86.8036095577,36.094355272158 L -86.803618002888,36.094443516626 L -86.803656963125,36.096454154585 L -86.802158699498,36.096343257521 L -86.802149800556,36.096415788235 L -86.802048709007,36.097240179933 L -86.802000148033,36.09763618305 L -86.8019327218,36.098185992685 L -86.801890306553,36.098627286374 L -86.801883078027,36.098702289205 L -86.801879554274,36.098738837394 L -86.801878763679,36.098747912173 L -86.801878756153,36.098748004939 L -86.801872311923,36.098821972379 L -86.801820416436,36.099314600102 L -86.801810628505,36.099417958821 L -86.801771854487,36.099734636254 L -86.801769193143,36.099756376842 L -86.801729024747,36.100084458921 L -86.801716817443,36.100184159989 L -86.801698914127,36.100330400877 L -86.801688877493,36.100412362826 L -86.801665106953,36.100606497618 L -86.801653267334,36.100732930322 L -86.801640271292,36.100731310635 L -86.801615690716,36.100728245587 L -86.801186921034,36.100674790371 L -86.80072866863,36.100616303569 L -86.800601394837,36.10059996819 L -86.800562286715,36.100800638554 L -86.800523310257,36.100963664979 L -86.80046759992,36.101117872589 L -86.800443969775,36.10115236906 L -86.800384670161,36.101202440952 L -86.800089545334,36.101336718573 L -86.799915886979,36.101403801567 L -86.798867094889,36.101771313723 L -86.798675530267,36.101825235766 L -86.798134926216,36.102038739707 L -86.797898413679,36.10225160546 L -86.797716330217,36.102575597519 L -86.797573312716,36.102829049221 L -86.797314758711,36.10320734356 L -86.797245545519,36.1033099025 L -86.79721539902,36.103354594288 L -86.799033326095,36.103568065727 L -86.799896269803,36.10367442883 L -86.799947113138,36.103680686969 L -86.801421700409,36.103813745384 L -86.801524874777,36.103828625587 L -86.801437499182,36.10422758537 L -86.801407796116,36.104331258264 L -86.801353758881,36.104511553263 L -86.801183677167,36.105241357896 L -86.801157582786,36.105339281837 L -86.80113277124,36.105418470466 L -86.801075735142,36.105643153499 L -86.800993452679,36.106010473295 L -86.800917811157,36.106348152676 L -86.800838656897,36.106611715674 L -86.800799913303,36.10690402502 L -86.800727002261,36.106897332847 L -86.800667356221,36.10689113633 L -86.800564497181,36.107702768369 L -86.799889598956,36.107650105777 L -86.799799277932,36.108362759229 L -86.799295073517,36.108317751404 L -86.798704189734,36.10827111899 L -86.798736676307,36.108000588491 L -86.79815116728,36.107949519533 L -86.798175641844,36.107756291757 L -86.798000145552,36.107743937266 L -86.797515014748,36.107709786585 L -86.797542597897,36.107489834093 L -86.797052029139,36.107453519824 L -86.797087862058,36.107178294097 L -86.796913713036,36.107164335799 L -86.796379752157,36.107121712439 L -86.796359718712,36.107284474167 L -86.795852838426,36.107241668507 L -86.795793130726,36.107231908462 L -86.795747265397,36.107226980121 L -86.795660732258,36.107817404333 L -86.794701568108,36.107747282406 L -86.794696710798,36.107814098573 L -86.794664187157,36.108082432173 L -86.794384077867,36.108061068351 L -86.794323956653,36.108410452457 L -86.793660171076,36.108362180791 L -86.793397052652,36.10878997788 L -86.793496122808,36.108817559609 L -86.794217135023,36.10887654799 L -86.794194582793,36.109059104514 L -86.79341370727,36.108971940946 L -86.793317220132,36.108957882012 L -86.793193428251,36.109209275641 L -86.793134732854,36.1093490784 L -86.793030924017,36.109660871411 L -86.793013672666,36.109713178912 L -86.792928874599,36.109838503033 L -86.792857717957,36.110030123766 L -86.792799527766,36.110310304069 L -86.792888363431,36.110335767326 L -86.793441388012,36.110387073315 L -86.793413990097,36.110626802072 L -86.793910035086,36.11066749171 L -86.793695462654,36.110877685332 L -86.79361764925,36.110950720662 L -86.793389689144,36.11117638508 L -86.793354788603,36.111207382351 L -86.793269830251,36.111649677317 L -86.793254239866,36.111754890778 L -86.79263674435,36.1116340609 L -86.792609376948,36.111728240733 L -86.792606071726,36.111739610328 L -86.792580555572,36.111827414409 L -86.792510018105,36.112222546741 L -86.792480917209,36.112444566309 L -86.792388252528,36.112912871911 L -86.792738070435,36.112938274406 L -86.79298044675,36.112968730778 L -86.793230043386,36.112987921796 L -86.793446542632,36.112970015063 L -86.79365713777,36.112925819135 L -86.793840844089,36.112873101192 L -86.793995932284,36.112808211068 L -86.794160418049,36.112723570064 L -86.79432475063,36.112652207562 L -86.794389777239,36.112602987671 L -86.794436546945,36.112670517331 L -86.794320386687,36.113242679926 L -86.794704946351,36.113237952451 L -86.794759156645,36.113241988918 L -86.794669181725,36.113723877323 L -86.794252559352,36.113772773639 L -86.794172733523,36.114186464045 L -86.794173137364,36.114226843384 L -86.79414413686,36.114227034332 L -86.793964359469,36.114221579027 L -86.793759233196,36.114192254179 L -86.793206294057,36.11414094953 L -86.792665431924,36.114084068756 L -86.792429424127,36.114070052577 L -86.792237590207,36.114043612709 L -86.792225847172,36.114139152028 L -86.792178325972,36.114466370612 L -86.792127719194,36.114710508678 L -86.792094380176,36.114875554962 L -86.791994344641,36.115255771822 L -86.791939995603,36.11543583504 L -86.791880648219,36.11573749075 L -86.79179828776,36.116079589023 L -86.791714835643,36.116340426226 L -86.791652646963,36.116627086859 L -86.791649855032,36.116639954796 L -86.791608553495,36.116830338556 L -86.791555030255,36.11712188302 L -86.791500613655,36.117295537603 L -86.79135045005,36.117940720897 L -86.791515236478,36.117967830745 L -86.791576660774,36.117977938218 L -86.791869614179,36.118026135792 L -86.791892081313,36.118031520286 L -86.791874254395,36.118095333656 L -86.79185434722,36.118173075365 L -86.791832541031,36.118258235286 L -86.791793513388,36.118418923293 L -86.791751798289,36.118581826036 L -86.79171823822,36.118713907598 L -86.791715304225,36.118724914151 L -86.791676836181,36.118873785853 L -86.791655945253,36.118994750582 L -86.791596996737,36.119232496313 L -86.791550774583,36.11942007582 L -86.790977378142,36.119321759219 L -86.790859256783,36.119756805916 L -86.790738126136,36.120258488409 L -86.790690802985,36.120454986816 L -86.790749384114,36.120465226098 L -86.790772448651,36.120469196131 L -86.791031578258,36.120513923212 L -86.791134679592,36.120530827395 L -86.791278495675,36.12055625745 L -86.791276549111,36.120564786256 L -86.7912368893,36.120730147633 L -86.791195281332,36.120904037802 L -86.791158390351,36.121007569324 L -86.791103525889,36.121210117463 L -86.791061763426,36.121368625915 L -86.79101729429,36.121527149805 L -86.79096507062,36.121723086329 L -86.790904063468,36.121853150973 L -86.790863495238,36.122029505977 L -86.790827807211,36.122185777942 L -86.790827656991,36.122186418774 L -86.790790487613,36.122348373781 L -86.790790342893,36.122349000269 L -86.790758835015,36.122486372742 L -86.790758685028,36.122487037037 L -86.790732670368,36.122594894167 L -86.790714519824,36.12264794074 L -86.790794417708,36.122670801729 L -86.790699449702,36.122997139573 L -86.790630008386,36.123237565942 L -86.790504152336,36.123227896253 L -86.790477167251,36.123332435665 L -86.790439911082,36.12348834916 L -86.790415218269,36.123581814138 L -86.790403590803,36.123632067365 L -86.79037639766,36.123761936996 L -86.790369766027,36.123787106166 L -86.790289007784,36.124093646854 L -86.790505550818,36.124119193136 L -86.790495490461,36.124187267102 L -86.790479258056,36.124289404417 L -86.790459614394,36.124409637746 L -86.79043932151,36.124536870139 L -86.790419527543,36.124641946711 L -86.79038981772,36.124833958015 L -86.790366668258,36.124962959232 L -86.790342997241,36.125111787655 L -86.790324153895,36.125240175737 L -86.790308274584,36.125316880505 L -86.790242135342,36.125309548072 L -86.790060072425,36.125289578745 L -86.790050106458,36.12535691203 L -86.790004953374,36.125685485048 L -86.790004956119,36.125685760886 L -86.790243587158,36.125710570085 L -86.790242952306,36.125714969611 L -86.790233387181,36.125774369159 L -86.790213094436,36.125912956736 L -86.789993449432,36.125890220823 L -86.789966316098,36.125886003143 L -86.789945999578,36.126022392567 L -86.78992819921,36.126138986928 L -86.78988490362,36.126416178536 L -86.789840122546,36.126543936804 L -86.7897970297,36.126808231657 L -86.789796718536,36.126810140642 L -86.789776338025,36.126939937372 L -86.790044791975,36.126966749412 L -86.790065614827,36.126969000158 L -86.790043288795,36.127104938575 L -86.790042645848,36.127109306674 L -86.790021813078,36.127107551613 L -86.789785885288,36.127082724258 L -86.789770921572,36.127212485514 L -86.789758737128,36.127346340066 L -86.789758711029,36.127346624104 L -86.789599272574,36.127329411006 L -86.789509218892,36.127319687898 L -86.789509193662,36.127319846593 L -86.78948639189,36.127475871044 L -86.789471209105,36.127583657998 L -86.789459080515,36.127653232213 L -86.789137481024,36.127616334402 L -86.789016565325,36.12870955592 L -86.788946651017,36.12919922742 L -86.789544533741,36.129266634664 L -86.789545009481,36.129284181526 L -86.789524669508,36.12941837265 L -86.789507064421,36.129554742976 L -86.789486706012,36.129686738811 L -86.789466386978,36.129823126881 L -86.789448820489,36.129963894582 L -86.789428485106,36.130098084489 L -86.789408168706,36.130234474234 L -86.789387853653,36.130370864533 L -86.789370222748,36.130505037863 L -86.789362597866,36.130555634987 L -86.789356456231,36.130595762245 L -86.788810151594,36.130537265936 L -86.788765503997,36.130741567875 L -86.788729063218,36.130946938435 L -86.788700870214,36.131153162166 L -86.788680953911,36.131360019691 L -86.788669334781,36.131567292828 L -86.788666027654,36.131774763432 L -86.788671032524,36.131982211165 L -86.788684346583,36.132189417992 L -86.788705955721,36.132396164236 L -86.788735836661,36.132602230849 L -86.788811302869,36.132600885842 L -86.788927484039,36.132612679817 L -86.789090463007,36.132629222834 L -86.789263849654,36.132646823853 L -86.789340121636,36.132654566143 L -86.789340471221,36.132689726159 L -86.789370695155,36.132693121955 L -86.789365453193,36.132731435369 L -86.789363718571,36.132849315602 L -86.789361022383,36.132981959769 L -86.789360501076,36.133007652565 L -86.789356889894,36.133185289898 L -86.789350655537,36.133289056003 L -86.788791975515,36.133227458445 L -86.788799642562,36.13329039243 L -86.788865615654,36.13388058674 L -86.788254894072,36.133825731701 L -86.788155305084,36.133280744445 L -86.787975250963,36.133264357472 L -86.787731618009,36.133241850147 L -86.787528294567,36.133225297952 L -86.787323046751,36.133207981346 L -86.787076547692,36.133185405557 L -86.786891163991,36.13316888863 L -86.786632976225,36.13314588454 L -86.786395995313,36.133124770513 L -86.786183513207,36.133105837705 L -86.785943846386,36.133084482754 L -86.785620043319,36.133055310903 L -86.785665461625,36.132805605482 L -86.785265470302,36.132766086942 L -86.784877654117,36.132730610235 L -86.784590674482,36.132716676531 L -86.784228319395,36.132692567105 L -86.783887964616,36.132676121698 L -86.783616599398,36.132659226668 L -86.783447858461,36.132650995039 L -86.783379895384,36.132658432313 L -86.783250966371,36.132668437871 L -86.783264099663,36.132682263224 L -86.783369711487,36.132918056294 L -86.783438682031,36.133215439062 L -86.78330057828,36.133554720442 L -86.783190520491,36.133496797589 L -86.782689030218,36.133192379454 L -86.782553297909,36.133164687853 L -86.782552821353,36.133116342024 L -86.782552323113,36.133065796367 L -86.782551998206,36.133032835018 L -86.782406341295,36.133097512402 L -86.782335687789,36.133121719249 L -86.782239820926,36.133166651564 L -86.782081986915,36.13322830729 L -86.781967073424,36.133276863115 L -86.781868945477,36.133311314157 L -86.781751819864,36.133346248779 L -86.7816051485,36.133381820536 L -86.781502584294,36.133403473935 L -86.781385653215,36.133425803484 L -86.781250033438,36.133448253943 L -86.781112930649,36.133466049509 L -86.780903990104,36.133487224716 L -86.780804880938,36.133494863847 L -86.780726217366,36.133492792376 L -86.780686791222,36.133750663967 L -86.780586700368,36.133742234173 L -86.779992756589,36.133677945327 L -86.77996874177,36.133675391262 L -86.779954414378,36.133875269929 L -86.77993643294,36.134228892855 L -86.779138251631,36.134238084457 z\" /></g></g></svg>"
      ],
      "text/plain": [
       "<shapely.geometry.multipolygon.MultiPolygon at 0x2544015f460>"
      ]
     },
     "execution_count": 8,
     "metadata": {},
     "output_type": "execute_result"
    }
   ],
   "source": [
    "zipcodes.loc[2, 'geometry']"
   ]
  },
  {
   "cell_type": "code",
   "execution_count": 10,
   "id": "a5975938",
   "metadata": {},
   "outputs": [
    {
     "name": "stdout",
     "output_type": "stream",
     "text": [
      "(10, 11)\n"
     ]
    },
    {
     "data": {
      "text/html": [
       "<div>\n",
       "<style scoped>\n",
       "    .dataframe tbody tr th:only-of-type {\n",
       "        vertical-align: middle;\n",
       "    }\n",
       "\n",
       "    .dataframe tbody tr th {\n",
       "        vertical-align: top;\n",
       "    }\n",
       "\n",
       "    .dataframe thead th {\n",
       "        text-align: right;\n",
       "    }\n",
       "</style>\n",
       "<table border=\"1\" class=\"dataframe\">\n",
       "  <thead>\n",
       "    <tr style=\"text-align: right;\">\n",
       "      <th></th>\n",
       "      <th>Location ID</th>\n",
       "      <th>Street Address</th>\n",
       "      <th>City</th>\n",
       "      <th>State</th>\n",
       "      <th>ZIP</th>\n",
       "      <th>Notes</th>\n",
       "      <th>Date Created</th>\n",
       "      <th>Date Modified</th>\n",
       "      <th>Status ID</th>\n",
       "      <th>Status Description</th>\n",
       "      <th>Mapped Location</th>\n",
       "    </tr>\n",
       "  </thead>\n",
       "  <tbody>\n",
       "    <tr>\n",
       "      <th>0</th>\n",
       "      <td>3</td>\n",
       "      <td>344 PEACHTREE ST</td>\n",
       "      <td>NASHVILLE</td>\n",
       "      <td>TN</td>\n",
       "      <td>37210</td>\n",
       "      <td>Outage not confined to address shown. Customer...</td>\n",
       "      <td>10/06/2022</td>\n",
       "      <td>10/06/2022</td>\n",
       "      <td>2</td>\n",
       "      <td>Active Water Main Break (Repair In Progress)</td>\n",
       "      <td>344 PEACHTREE ST\\nNASHVILLE, TN 37210\\n(36.120...</td>\n",
       "    </tr>\n",
       "    <tr>\n",
       "      <th>1</th>\n",
       "      <td>2</td>\n",
       "      <td>4060 KINGS LN</td>\n",
       "      <td>NASHVILLE</td>\n",
       "      <td>TN</td>\n",
       "      <td>37218</td>\n",
       "      <td>Outage not confined to address shown. Customer...</td>\n",
       "      <td>10/05/2022</td>\n",
       "      <td>10/05/2022</td>\n",
       "      <td>2</td>\n",
       "      <td>Active Water Main Break (Repair In Progress)</td>\n",
       "      <td>4060 KINGS LN\\nNASHVILLE, TN 37218\\n(36.216955...</td>\n",
       "    </tr>\n",
       "    <tr>\n",
       "      <th>2</th>\n",
       "      <td>4</td>\n",
       "      <td>336 HARDING PL</td>\n",
       "      <td>NASHVILLE</td>\n",
       "      <td>TN</td>\n",
       "      <td>37211</td>\n",
       "      <td>Outage not confined to address shown. Customer...</td>\n",
       "      <td>10/05/2022</td>\n",
       "      <td>10/05/2022</td>\n",
       "      <td>1</td>\n",
       "      <td>Possible Water Main Break (under Investigation)</td>\n",
       "      <td>336 HARDING PL\\nNASHVILLE, TN 37211\\n(36.08680...</td>\n",
       "    </tr>\n",
       "  </tbody>\n",
       "</table>\n",
       "</div>"
      ],
      "text/plain": [
       "   Location ID    Street Address       City State    ZIP  \\\n",
       "0            3  344 PEACHTREE ST  NASHVILLE    TN  37210   \n",
       "1            2     4060 KINGS LN  NASHVILLE    TN  37218   \n",
       "2            4    336 HARDING PL  NASHVILLE    TN  37211   \n",
       "\n",
       "                                               Notes Date Created  \\\n",
       "0  Outage not confined to address shown. Customer...   10/06/2022   \n",
       "1  Outage not confined to address shown. Customer...   10/05/2022   \n",
       "2  Outage not confined to address shown. Customer...   10/05/2022   \n",
       "\n",
       "  Date Modified  Status ID                               Status Description  \\\n",
       "0    10/06/2022          2     Active Water Main Break (Repair In Progress)   \n",
       "1    10/05/2022          2     Active Water Main Break (Repair In Progress)   \n",
       "2    10/05/2022          1  Possible Water Main Break (under Investigation)   \n",
       "\n",
       "                                     Mapped Location  \n",
       "0  344 PEACHTREE ST\\nNASHVILLE, TN 37210\\n(36.120...  \n",
       "1  4060 KINGS LN\\nNASHVILLE, TN 37218\\n(36.216955...  \n",
       "2  336 HARDING PL\\nNASHVILLE, TN 37211\\n(36.08680...  "
      ]
     },
     "execution_count": 10,
     "metadata": {},
     "output_type": "execute_result"
    }
   ],
   "source": [
    "water_outage = pd.read_csv('../data/Metro_Service_Outages.csv')\n",
    "print(water_outage.shape)\n",
    "water_outage.head(3)"
   ]
  },
  {
   "cell_type": "code",
   "execution_count": 11,
   "id": "5940002f",
   "metadata": {},
   "outputs": [
    {
     "data": {
      "text/plain": [
       "<bound method DataFrame.info of    Location ID         Street Address       City State    ZIP  \\\n",
       "0            3       344 PEACHTREE ST  NASHVILLE    TN  37210   \n",
       "1            2          4060 KINGS LN  NASHVILLE    TN  37218   \n",
       "2            4         336 HARDING PL  NASHVILLE    TN  37211   \n",
       "3            1      410 CEDARCLIFF RD    ANTIOCH    TN  37013   \n",
       "4            5  1725 HEIL QUAKER BLVD   LAVERGNE    TN  37086   \n",
       "5            6      1209 JEFFERSON ST  NASHVILLE    TN  37208   \n",
       "6            8          7515 PIPER CT    JOELTON    TN  37080   \n",
       "7            7            808 hill rd  BRENTWOOD    TN  37027   \n",
       "8            9          419 W TYNE DR  NASHVILLE    TN  37205   \n",
       "9           10                    NaN  NASHVILLE    TN  37209   \n",
       "\n",
       "                                               Notes Date Created  \\\n",
       "0  Outage not confined to address shown. Customer...   10/06/2022   \n",
       "1  Outage not confined to address shown. Customer...   10/05/2022   \n",
       "2  Outage not confined to address shown. Customer...   10/05/2022   \n",
       "3  Outage not confined to address shown. Customer...   10/05/2022   \n",
       "4  Outage not confined to address shown. Customer...   10/06/2022   \n",
       "5  Outage not confined to address shown. Customer...   10/06/2022   \n",
       "6  Outage not confined to address shown. Customer...   10/07/2022   \n",
       "7  Outage not confined to address shown. Customer...   10/07/2022   \n",
       "8  Outage not confined to address shown. Customer...   10/07/2022   \n",
       "9  Outage not confined to address shown. Customer...   10/07/2022   \n",
       "\n",
       "  Date Modified  Status ID                               Status Description  \\\n",
       "0    10/06/2022          2     Active Water Main Break (Repair In Progress)   \n",
       "1    10/05/2022          2     Active Water Main Break (Repair In Progress)   \n",
       "2    10/05/2022          1  Possible Water Main Break (under Investigation)   \n",
       "3    10/05/2022          2     Active Water Main Break (Repair In Progress)   \n",
       "4    10/06/2022          1  Possible Water Main Break (under Investigation)   \n",
       "5    10/06/2022          1  Possible Water Main Break (under Investigation)   \n",
       "6    10/07/2022          2     Active Water Main Break (Repair In Progress)   \n",
       "7    10/07/2022          3                                 Repair Completed   \n",
       "8    10/07/2022          2     Active Water Main Break (Repair In Progress)   \n",
       "9    10/07/2022          1  Possible Water Main Break (under Investigation)   \n",
       "\n",
       "                                     Mapped Location  \n",
       "0  344 PEACHTREE ST\\nNASHVILLE, TN 37210\\n(36.120...  \n",
       "1  4060 KINGS LN\\nNASHVILLE, TN 37218\\n(36.216955...  \n",
       "2  336 HARDING PL\\nNASHVILLE, TN 37211\\n(36.08680...  \n",
       "3  410 CEDARCLIFF RD\\nANTIOCH, TN 37013\\n(36.0747...  \n",
       "4  1725 HEIL QUAKER BLVD\\nLAVERGNE, TN 37086\\n(36...  \n",
       "5  1209 JEFFERSON ST\\nNASHVILLE, TN 37208\\n(36.17...  \n",
       "6  7515 PIPER CT\\nJOELTON, TN 37080\\n(36.323195, ...  \n",
       "7  808 hill rd\\nBRENTWOOD, TN 37027\\n(36.050778, ...  \n",
       "8  419 W TYNE DR\\nNASHVILLE, TN 37205\\n(36.090126...  \n",
       "9       NASHVILLE, TN 37209\\n(36.149599, -86.874487)  >"
      ]
     },
     "execution_count": 11,
     "metadata": {},
     "output_type": "execute_result"
    }
   ],
   "source": [
    "water_outage.info"
   ]
  },
  {
   "cell_type": "markdown",
   "id": "a89c415d",
   "metadata": {},
   "source": [
    "I had to download another file - now will be using Traffic Accidents b/c the CSV file has both lat and log columns."
   ]
  },
  {
   "cell_type": "code",
   "execution_count": 13,
   "id": "501df6ec",
   "metadata": {},
   "outputs": [
    {
     "name": "stdout",
     "output_type": "stream",
     "text": [
      "(223289, 25)\n"
     ]
    },
    {
     "data": {
      "text/html": [
       "<div>\n",
       "<style scoped>\n",
       "    .dataframe tbody tr th:only-of-type {\n",
       "        vertical-align: middle;\n",
       "    }\n",
       "\n",
       "    .dataframe tbody tr th {\n",
       "        vertical-align: top;\n",
       "    }\n",
       "\n",
       "    .dataframe thead th {\n",
       "        text-align: right;\n",
       "    }\n",
       "</style>\n",
       "<table border=\"1\" class=\"dataframe\">\n",
       "  <thead>\n",
       "    <tr style=\"text-align: right;\">\n",
       "      <th></th>\n",
       "      <th>Accident Number</th>\n",
       "      <th>Date and Time</th>\n",
       "      <th>Number of Motor Vehicles</th>\n",
       "      <th>Number of Injuries</th>\n",
       "      <th>Number of Fatalities</th>\n",
       "      <th>Property Damage</th>\n",
       "      <th>Hit and Run</th>\n",
       "      <th>Reporting Officer</th>\n",
       "      <th>Collision Type Code</th>\n",
       "      <th>Collision Type Description</th>\n",
       "      <th>...</th>\n",
       "      <th>Harmful Description</th>\n",
       "      <th>Street Address</th>\n",
       "      <th>City</th>\n",
       "      <th>State</th>\n",
       "      <th>ZIP</th>\n",
       "      <th>RPA</th>\n",
       "      <th>Precinct</th>\n",
       "      <th>Latitude</th>\n",
       "      <th>Longitude</th>\n",
       "      <th>Mapped Location</th>\n",
       "    </tr>\n",
       "  </thead>\n",
       "  <tbody>\n",
       "    <tr>\n",
       "      <th>0</th>\n",
       "      <td>20210274292</td>\n",
       "      <td>May 17, 2021 06:42 PM</td>\n",
       "      <td>2.0</td>\n",
       "      <td>0</td>\n",
       "      <td>0</td>\n",
       "      <td>NaN</td>\n",
       "      <td>False</td>\n",
       "      <td>384403.0</td>\n",
       "      <td>4.0</td>\n",
       "      <td>ANGLE</td>\n",
       "      <td>...</td>\n",
       "      <td>MOTOR VEHICLE IN TRANSPORT</td>\n",
       "      <td>OLD HICKORY BLVD &amp; NOLENSVILLE PKE</td>\n",
       "      <td>ANTIOCH</td>\n",
       "      <td>TN</td>\n",
       "      <td>37013.0</td>\n",
       "      <td>8757.0</td>\n",
       "      <td>SOUTH</td>\n",
       "      <td>36.0455</td>\n",
       "      <td>-86.7122</td>\n",
       "      <td>POINT (-86.7122 36.0455)</td>\n",
       "    </tr>\n",
       "    <tr>\n",
       "      <th>1</th>\n",
       "      <td>20210273720</td>\n",
       "      <td>May 17, 2021 01:13 PM</td>\n",
       "      <td>2.0</td>\n",
       "      <td>0</td>\n",
       "      <td>0</td>\n",
       "      <td>NaN</td>\n",
       "      <td>False</td>\n",
       "      <td>902543.0</td>\n",
       "      <td>11.0</td>\n",
       "      <td>Front to Rear</td>\n",
       "      <td>...</td>\n",
       "      <td>MOTOR VEHICLE IN TRANSPORT</td>\n",
       "      <td>WEDGEWOOD AV &amp; BEECH AV</td>\n",
       "      <td>NASHVILLE</td>\n",
       "      <td>TN</td>\n",
       "      <td>37204.0</td>\n",
       "      <td>6919.0</td>\n",
       "      <td>MIDTOW</td>\n",
       "      <td>36.1343</td>\n",
       "      <td>-86.7806</td>\n",
       "      <td>POINT (-86.7806 36.1343)</td>\n",
       "    </tr>\n",
       "    <tr>\n",
       "      <th>2</th>\n",
       "      <td>20210273098</td>\n",
       "      <td>May 17, 2021 06:44 AM</td>\n",
       "      <td>2.0</td>\n",
       "      <td>0</td>\n",
       "      <td>0</td>\n",
       "      <td>NaN</td>\n",
       "      <td>True</td>\n",
       "      <td>226622.0</td>\n",
       "      <td>5.0</td>\n",
       "      <td>SIDESWIPE - SAME DIRECTION</td>\n",
       "      <td>...</td>\n",
       "      <td>MOTOR VEHICLE IN TRANSPORT</td>\n",
       "      <td>MM 2 9 I 440</td>\n",
       "      <td>NASHVILLE</td>\n",
       "      <td>TN</td>\n",
       "      <td>37212.0</td>\n",
       "      <td>6506.0</td>\n",
       "      <td>MIDTOW</td>\n",
       "      <td>36.1208</td>\n",
       "      <td>-86.8029</td>\n",
       "      <td>POINT (-86.8029 36.1208)</td>\n",
       "    </tr>\n",
       "  </tbody>\n",
       "</table>\n",
       "<p>3 rows × 25 columns</p>\n",
       "</div>"
      ],
      "text/plain": [
       "   Accident Number          Date and Time  Number of Motor Vehicles  \\\n",
       "0      20210274292  May 17, 2021 06:42 PM                       2.0   \n",
       "1      20210273720  May 17, 2021 01:13 PM                       2.0   \n",
       "2      20210273098  May 17, 2021 06:44 AM                       2.0   \n",
       "\n",
       "   Number of Injuries  Number of Fatalities Property Damage Hit and Run  \\\n",
       "0                   0                     0             NaN       False   \n",
       "1                   0                     0             NaN       False   \n",
       "2                   0                     0             NaN        True   \n",
       "\n",
       "   Reporting Officer  Collision Type Code  Collision Type Description  ...  \\\n",
       "0           384403.0                  4.0                       ANGLE  ...   \n",
       "1           902543.0                 11.0               Front to Rear  ...   \n",
       "2           226622.0                  5.0  SIDESWIPE - SAME DIRECTION  ...   \n",
       "\n",
       "          Harmful Description                      Street Address       City  \\\n",
       "0  MOTOR VEHICLE IN TRANSPORT  OLD HICKORY BLVD & NOLENSVILLE PKE    ANTIOCH   \n",
       "1  MOTOR VEHICLE IN TRANSPORT             WEDGEWOOD AV & BEECH AV  NASHVILLE   \n",
       "2  MOTOR VEHICLE IN TRANSPORT                        MM 2 9 I 440  NASHVILLE   \n",
       "\n",
       "  State      ZIP     RPA Precinct Latitude Longitude           Mapped Location  \n",
       "0    TN  37013.0  8757.0    SOUTH  36.0455  -86.7122  POINT (-86.7122 36.0455)  \n",
       "1    TN  37204.0  6919.0   MIDTOW  36.1343  -86.7806  POINT (-86.7806 36.1343)  \n",
       "2    TN  37212.0  6506.0   MIDTOW  36.1208  -86.8029  POINT (-86.8029 36.1208)  \n",
       "\n",
       "[3 rows x 25 columns]"
      ]
     },
     "execution_count": 13,
     "metadata": {},
     "output_type": "execute_result"
    }
   ],
   "source": [
    "traffic_accidents = pd.read_csv('../data/Traffic_Accidents.csv')\n",
    "print(traffic_accidents.shape)\n",
    "traffic_accidents.head(3)"
   ]
  },
  {
   "cell_type": "code",
   "execution_count": null,
   "id": "0909588a",
   "metadata": {},
   "outputs": [],
   "source": []
  }
 ],
 "metadata": {
  "kernelspec": {
   "display_name": "Python 3 (ipykernel)",
   "language": "python",
   "name": "python3"
  },
  "language_info": {
   "codemirror_mode": {
    "name": "ipython",
    "version": 3
   },
   "file_extension": ".py",
   "mimetype": "text/x-python",
   "name": "python",
   "nbconvert_exporter": "python",
   "pygments_lexer": "ipython3",
   "version": "3.8.5"
  }
 },
 "nbformat": 4,
 "nbformat_minor": 5
}
